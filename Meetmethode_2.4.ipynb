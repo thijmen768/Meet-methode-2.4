{
 "cells": [
  {
   "cell_type": "code",
   "execution_count": 1,
   "id": "28d84855",
   "metadata": {},
   "outputs": [],
   "source": [
    "import sounddevice as sd\n",
    "import numpy as np\n",
    "import pandas as pd"
   ]
  },
  {
   "cell_type": "code",
   "execution_count": 6,
   "id": "06a4b019",
   "metadata": {},
   "outputs": [],
   "source": [
    "def meet_decibel(frequentie):\n",
    "    duration = 1.0  # Duur van elke frequentie in seconden\n",
    "    fs = 44100  # Sample rate\n",
    "    t = np.linspace(0, duration, int(duration * fs), endpoint=False)  # Tijdsvector\n",
    "\n",
    "    # Genereer sinusgolf van de opgegeven frequentie\n",
    "    sweep = np.sin(2 * np.pi * frequentie * t)\n",
    "\n",
    "    # Speel het geluid af en meet de invoer\n",
    "    opname = sd.playrec(sweep, fs, channels=1)  # Mono-opname\n",
    "    sd.wait()  # Wacht tot de opname is voltooid\n",
    "\n",
    "    # Bereken het gemiddelde van de opname + kalibratiefactoren\n",
    "    gemeten_decibel = 1.001*1.33408*0.8849* 20 * np.log10(np.abs(opname).mean()) + 113.754 + 3.387 - 1.025\n",
    "\n",
    "    return gemeten_decibel\n"
   ]
  },
  {
   "cell_type": "code",
   "execution_count": 7,
   "id": "d3de6b11",
   "metadata": {},
   "outputs": [],
   "source": [
    "def maak_tabel():\n",
    "    start_frequentie = 100\n",
    "    eind_frequentie = 20000\n",
    "    stappen = 20\n",
    "    frequenties = np.logspace(np.log10(start_frequentie), np.log10(eind_frequentie), stappen)\n",
    "\n",
    "    print(\"Frequentie (Hz)\\tDecibel (dB)\")\n",
    "    print(\"---------------------------\")\n",
    "\n",
    "    meetresultaten = []\n",
    "    \n",
    "    for frequentie in frequenties:\n",
    "        decibel = meet_decibel(frequentie)\n",
    "        print(\"{:.2f}\\t\\t{:.2f}\".format(frequentie, decibel))\n",
    "        meetresultaten.append([frequentie, decibel])\n",
    "\n",
    "\n",
    "    #meetresultaten = []\n",
    "\n",
    "    #for frequentie in frequenties:\n",
    "        #decibel = meet_decibel(frequentie)\n",
    "        #meetresultaten.append([frequentie, decibel])\n",
    "\n",
    "    # Converteer de meetresultaten naar een Pandas DataFrame\n",
    "    df = pd.DataFrame(meetresultaten, columns=['Frequentie (Hz)', 'Decibel (dB)'])\n",
    "\n",
    "    # Exporteer de DataFrame naar een Excel-bestand\n",
    "    df.to_excel('meetresultaten.xlsx', index=False)\n",
    "\n",
    "    print(\"Meetresultaten zijn geëxporteerd naar meetresultaten.xlsx\")"
   ]
  },
  {
   "cell_type": "code",
   "execution_count": null,
   "id": "9824ad09",
   "metadata": {},
   "outputs": [],
   "source": [
    "# Main programma\n",
    "maak_tabel()"
   ]
  }
 ],
 "metadata": {
  "kernelspec": {
   "display_name": "Python 3",
   "language": "python",
   "name": "python3"
  },
  "language_info": {
   "codemirror_mode": {
    "name": "ipython",
    "version": 3
   },
   "file_extension": ".py",
   "mimetype": "text/x-python",
   "name": "python",
   "nbconvert_exporter": "python",
   "pygments_lexer": "ipython3",
   "version": "3.8.8"
  }
 },
 "nbformat": 4,
 "nbformat_minor": 5
}
